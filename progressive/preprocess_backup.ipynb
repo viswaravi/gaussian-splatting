{
 "cells": [
  {
   "cell_type": "code",
   "execution_count": 1,
   "metadata": {},
   "outputs": [
    {
     "name": "stdout",
     "output_type": "stream",
     "text": [
      "Jupyter environment detected. Enabling Open3D WebVisualizer.\n",
      "[Open3D INFO] WebRTC GUI backend enabled.\n",
      "[Open3D INFO] WebRTCWindowSystem: HTTP handshake server disabled.\n"
     ]
    }
   ],
   "source": [
    "import sys\n",
    "import torch\n",
    "import os\n",
    "import math\n",
    "from os import makedirs\n",
    "import numpy as np\n",
    "import open3d as o3d\n",
    "from random import randint\n",
    "from scipy.spatial.transform import Rotation\n",
    "from tqdm import tqdm\n",
    "import matplotlib.pyplot as plt\n",
    "import cv2\n",
    "import random\n",
    "import open3d as o3d\n",
    "\n",
    "np.set_printoptions(suppress=True)"
   ]
  },
  {
   "cell_type": "code",
   "execution_count": null,
   "metadata": {},
   "outputs": [],
   "source": [
    "def getWorld2View2(R, t, translate=np.array([.0, .0, .0]), scale=1.0):\n",
    "    Rt = np.zeros((4, 4))\n",
    "    Rt[:3, :3] = R.transpose()\n",
    "    Rt[:3, 3] = t\n",
    "    Rt[3, 3] = 1.0\n",
    "\n",
    "    C2W = np.linalg.inv(Rt)\n",
    "    cam_center = C2W[:3, 3]\n",
    "    cam_center = (cam_center + translate) * scale\n",
    "    C2W[:3, 3] = cam_center\n",
    "    Rt = np.linalg.inv(C2W)\n",
    "    return np.float32(Rt)\n",
    "\n",
    "def qvec2rotmat(qvec):\n",
    "    return np.array([\n",
    "        [1 - 2 * qvec[2]**2 - 2 * qvec[3]**2,\n",
    "         2 * qvec[1] * qvec[2] - 2 * qvec[0] * qvec[3],\n",
    "         2 * qvec[3] * qvec[1] + 2 * qvec[0] * qvec[2]],\n",
    "        [2 * qvec[1] * qvec[2] + 2 * qvec[0] * qvec[3],\n",
    "         1 - 2 * qvec[1]**2 - 2 * qvec[3]**2,\n",
    "         2 * qvec[2] * qvec[3] - 2 * qvec[0] * qvec[1]],\n",
    "        [2 * qvec[3] * qvec[1] - 2 * qvec[0] * qvec[2],\n",
    "         2 * qvec[2] * qvec[3] + 2 * qvec[0] * qvec[1],\n",
    "         1 - 2 * qvec[1]**2 - 2 * qvec[2]**2]])"
   ]
  },
  {
   "cell_type": "code",
   "execution_count": null,
   "metadata": {},
   "outputs": [],
   "source": [
    "rot = qvec2rotmat([1.13133e-08,0.965926,0.258819,-4.2222e-08])\n",
    "rot2 = Rotation.from_quat([1.13133e-08,0.965926,0.258819,-4.2222e-08]).as_matrix()\n",
    "\n",
    "print(rot)\n",
    "print('')\n",
    "print(rot2)"
   ]
  },
  {
   "cell_type": "code",
   "execution_count": 2,
   "metadata": {},
   "outputs": [
    {
     "name": "stdout",
     "output_type": "stream",
     "text": [
      "[Open3D WARNING] Read PLY failed: unable to open file: G:\\Universitat Siegen\\SA\\P-GPU\\Code\\gaussian-splatting\\Global.ply\n"
     ]
    }
   ],
   "source": [
    "# Visualize the final point cloud\n",
    "ply_path = \"G:\\\\Universitat Siegen\\\\SA\\\\P-GPU\\\\Code\\\\gaussian-splatting\\\\data\\\\ScanNet\\\\scene0000_00\\\\sens_read\\\\ply\"\n",
    "first_ply_file_path = os.path.join(ply_path, '0.ply')\n",
    "Global_ply_path = \"G:\\\\Universitat Siegen\\\\SA\\\\P-GPU\\\\Code\\\\gaussian-splatting\"\n",
    "ply_file_path = os.path.join(Global_ply_path, 'Global.ply')\n",
    "\n",
    "# 4X4 transformation matrix\n",
    "transformation_matrix =  [[1, 0, 0, 0.5],\n",
    "                            [0, 1, 0, 0],\n",
    "                            [0, 0, 1, 0],\n",
    "                            [0, 0, 0, 1]]\n",
    "\n",
    "\n",
    "ply_files = os.listdir(ply_path)\n",
    "pcd_list = []\n",
    "# for file in ply_files[:1]:\n",
    "#     if file.endswith(\".ply\"):\n",
    "#         pcd_file = os.path.join(ply_path, file)\n",
    "#         pcd = o3d.io.read_point_cloud(pcd_file)\n",
    "#         pcd.transform(transformation_matrix)\n",
    "#         pcd_list.append(pcd)\n",
    "\n",
    "pcd_list.append(o3d.io.read_point_cloud(ply_file_path))\n",
    "# pcd_list.append(o3d.io.read_point_cloud(first_ply_file_path))\n",
    "\n",
    "# Visualize the final point cloud\n",
    "axes = o3d.geometry.TriangleMesh.create_coordinate_frame(size=10, origin=[0, 0, 0])\n",
    "o3d.visualization.draw_geometries(pcd_list)\n"
   ]
  },
  {
   "cell_type": "code",
   "execution_count": null,
   "metadata": {},
   "outputs": [],
   "source": [
    "# Visualize the filtered point cloud\n",
    "filtered_ply_path = \"G:\\\\Universitat Siegen\\\\SA\\\\P-GPU\\\\Code\\\\gaussian-splatting\\\\data\\\\RGBD_Data\\\\ply_filtered\" \n",
    "\n",
    "ply_files = os.listdir(filtered_ply_path)\n",
    "pcd_list = []\n",
    "for file in ply_files:\n",
    "    if file.endswith(\".ply\"):\n",
    "        pcd_file = os.path.join(filtered_ply_path, file)\n",
    "        pcd = o3d.io.read_point_cloud(pcd_file)\n",
    "        pcd.transform(transformation_matrix)\n",
    "        pcd_list.append(pcd)\n",
    "\n",
    "# Visualize the final point cloud\n",
    "axes = o3d.geometry.TriangleMesh.create_coordinate_frame(size=10, origin=[0, 0, 0])\n",
    "o3d.visualization.draw_geometries(pcd_list)\n"
   ]
  },
  {
   "cell_type": "code",
   "execution_count": null,
   "metadata": {},
   "outputs": [],
   "source": [
    "a = torch.Tensor([[1,2],[4,5]])\n",
    "b = torch.Tensor([[3,4],[4,5],[0,9]])\n",
    "\n",
    "mask = torch.isin(a,b)\n",
    "\n",
    "mask_all_true = mask.all(dim=1)\n",
    "\n",
    "mask_all_true"
   ]
  }
 ],
 "metadata": {
  "kernelspec": {
   "display_name": "SA",
   "language": "python",
   "name": "python3"
  },
  "language_info": {
   "codemirror_mode": {
    "name": "ipython",
    "version": 3
   },
   "file_extension": ".py",
   "mimetype": "text/x-python",
   "name": "python",
   "nbconvert_exporter": "python",
   "pygments_lexer": "ipython3",
   "version": "3.8.17"
  }
 },
 "nbformat": 4,
 "nbformat_minor": 2
}
