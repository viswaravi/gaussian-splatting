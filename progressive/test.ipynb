{
 "cells": [
  {
   "cell_type": "code",
   "execution_count": 2,
   "metadata": {},
   "outputs": [],
   "source": [
    "import torch\n",
    "from torch.multiprocessing import Pool, Process, set_start_method"
   ]
  },
  {
   "cell_type": "code",
   "execution_count": 3,
   "metadata": {},
   "outputs": [
    {
     "name": "stdout",
     "output_type": "stream",
     "text": [
      "torch.Size([3, 2]) torch.Size([3, 2])\n",
      "tensor([True, True, True])\n"
     ]
    }
   ],
   "source": [
    "u1 = torch.tensor([2, 3, 3])\n",
    "v1 = torch.tensor([6, 4, 6])\n",
    "result1 = torch.stack((u1, v1), dim=1)\n",
    "\n",
    "u2 = torch.tensor([3, 6, 1])\n",
    "v2 = torch.tensor([6, 2, 4])\n",
    "result2 = torch.stack((u2, v2), dim=1)\n",
    "\n",
    "print(result1.shape, result2.shape)\n",
    "# Check if all UV values in result1 are in result2\n",
    "mask = torch.isin(result1, result2).all(dim=1)\n",
    "print(mask)"
   ]
  },
  {
   "cell_type": "code",
   "execution_count": 4,
   "metadata": {},
   "outputs": [
    {
     "name": "stdout",
     "output_type": "stream",
     "text": [
      "torch.Size([3, 3])\n",
      "tensor([[False],\n",
      "        [False],\n",
      "        [False]]) torch.Size([3, 1])\n"
     ]
    }
   ],
   "source": [
    "t = torch.tensor([[1, 0, 3], \n",
    "                  [4, 0, 2],\n",
    "                  [4, 0, 2]])\n",
    "print(t.shape)\n",
    "mask = torch.all(t == 0, dim=1, keepdim=True)\n",
    "print(mask, mask.shape)"
   ]
  },
  {
   "cell_type": "code",
   "execution_count": 4,
   "metadata": {},
   "outputs": [
    {
     "name": "stdout",
     "output_type": "stream",
     "text": [
      "torch.Size([4, 4, 3])\n"
     ]
    }
   ],
   "source": [
    "t = torch.tensor([\n",
    "    [\n",
    "        [1, 0, 3],\n",
    "        [4, 5, 2],\n",
    "        [4, 0, 2],\n",
    "        [4, 0, 2]\n",
    "\n",
    "    ],\n",
    "    [\n",
    "        [1, 0, 3],\n",
    "        [4, 5, 2],\n",
    "        [4, 0, 2],\n",
    "        [4, 0, 2]\n",
    "    ],\n",
    "    [\n",
    "        [1, 0, 3],\n",
    "        [4, 5, 2],\n",
    "        [4, 0, 2],\n",
    "        [4, 0, 2]\n",
    "\n",
    "    ],\n",
    "    [\n",
    "        [1, 0, 3],\n",
    "        [4, 5, 2],\n",
    "        [4, 0, 2],\n",
    "        [4, 0, 2]\n",
    "    ]\n",
    "])\n",
    "print(t.shape)\n",
    "mask = torch.any(t == 0, dim=2, keepdim=True)\n",
    "# print(mask, mask.shape)"
   ]
  },
  {
   "cell_type": "code",
   "execution_count": 5,
   "metadata": {},
   "outputs": [
    {
     "name": "stdout",
     "output_type": "stream",
     "text": [
      "torch.Size([4, 2])\n"
     ]
    },
    {
     "data": {
      "text/plain": [
       "tensor([[4, 5, 2],\n",
       "        [4, 0, 2],\n",
       "        [4, 0, 2],\n",
       "        [4, 0, 2]])"
      ]
     },
     "execution_count": 5,
     "metadata": {},
     "output_type": "execute_result"
    }
   ],
   "source": [
    "uv = [[0,1], [1,2], [2,3], [3,3]]\n",
    "uv = torch.tensor(uv)\n",
    "\n",
    "print(uv.shape)\n",
    "\n",
    "rgb = [[0,1,2], [1,2,3], [2,3,4], [3,4,5]]\n",
    "rgb = torch.tensor(rgb)\n",
    "\n",
    "t[uv[:,0], uv[:,1]]"
   ]
  }
 ],
 "metadata": {
  "kernelspec": {
   "display_name": "SA",
   "language": "python",
   "name": "python3"
  },
  "language_info": {
   "codemirror_mode": {
    "name": "ipython",
    "version": 3
   },
   "file_extension": ".py",
   "mimetype": "text/x-python",
   "name": "python",
   "nbconvert_exporter": "python",
   "pygments_lexer": "ipython3",
   "version": "3.8.17"
  }
 },
 "nbformat": 4,
 "nbformat_minor": 2
}
