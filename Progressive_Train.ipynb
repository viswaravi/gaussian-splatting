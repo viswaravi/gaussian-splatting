{
 "cells": [
  {
   "cell_type": "code",
   "execution_count": 1,
   "metadata": {},
   "outputs": [
    {
     "name": "stdout",
     "output_type": "stream",
     "text": [
      "Jupyter environment detected. Enabling Open3D WebVisualizer.\n",
      "[Open3D INFO] WebRTC GUI backend enabled.\n",
      "[Open3D INFO] WebRTCWindowSystem: HTTP handshake server disabled.\n"
     ]
    }
   ],
   "source": [
    "import sys\n",
    "import torch\n",
    "import os\n",
    "from os import makedirs\n",
    "from argparse import ArgumentParser\n",
    "from argparse import Namespace\n",
    "from arguments import ModelParams, PipelineParams, OptimizationParams, get_combined_args\n",
    "import numpy as np\n",
    "from scene import Scene, GaussianModel\n",
    "from utils.general_utils import safe_state\n",
    "import open3d as o3d\n",
    "from random import randint\n",
    "from gaussian_renderer import render, network_gui\n",
    "import matplotlib.pyplot as plt"
   ]
  },
  {
   "cell_type": "code",
   "execution_count": 2,
   "metadata": {},
   "outputs": [],
   "source": [
    "# Setup Command line Arg\n",
    "sys.argv = [\"train.py\", \"-s\", \"G:\\\\Universitat Siegen\\\\SA\\\\P-GPU\\\\Code\\\\gaussian-splatting\\\\data\\\\RGBD_Data\"]\n",
    "                        # \"-m\" , \"G:\\\\Universitat Siegen\\\\SA\\\\P-GPU\\\\Code\\\\gaussian-splatting\\\\output\\\\RGBD_Model\"]\n",
    "\n",
    "parser = ArgumentParser(description='Progressice Gaussian Splatting')\n",
    "model = ModelParams(parser)\n",
    "pipeline = PipelineParams(parser)\n",
    "op = OptimizationParams(parser)\n",
    "\n",
    "# parser.add_argument('--ip', type=str, default=\"127.0.0.1\")\n",
    "# parser.add_argument('--port', type=int, default=6009)\n",
    "# parser.add_argument('--debug_from', type=int, default=-1)\n",
    "# parser.add_argument('--detect_anomaly', action='store_true', default=False)\n",
    "# parser.add_argument(\"--save_iterations\", nargs=\"+\", type=int, default=3000)\n",
    "# parser.add_argument(\"--test_iterations\", nargs=\"+\", type=int, default=3000)\n",
    "parser.add_argument(\"--quiet\", action=\"store_true\")\n",
    "# parser.add_argument(\"--checkpoint_iterations\", nargs=\"+\", type=int, default=3000)\n",
    "# parser.add_argument(\"--start_checkpoint\", type=str, default = None)\n",
    "\n",
    "args = parser.parse_args(sys.argv[1:])\n",
    "\n",
    "# Initialize system state (RNG)\n",
    "safe_state(args.quiet)\n",
    "\n",
    "dataset, iteration, pipeline = model.extract(args), op.extract(args), pipeline.extract(args)"
   ]
  },
  {
   "cell_type": "code",
   "execution_count": 3,
   "metadata": {},
   "outputs": [
    {
     "name": "stdout",
     "output_type": "stream",
     "text": [
      "Loading RGBD Scene [05/11 16:48:29]\n",
      "Loading Training Cameras [05/11 16:48:30]\n",
      "[ INFO ] Encountered quite large input images (>1.6K pixels width), rescaling to 1.6K.\n",
      " If this is not desired, please explicitly specify '--resolution/-r' as 1 [05/11 16:48:30]\n",
      "Loading Test Cameras [05/11 16:49:36]\n",
      "Number of points at initialisation :  1708432 [05/11 16:49:37]\n"
     ]
    }
   ],
   "source": [
    "with torch.no_grad():\n",
    "    # Initialize Gaussians with Zero Tensor\n",
    "    gaussians = GaussianModel(dataset.sh_degree)\n",
    "\n",
    "    # Load Actual Gaussians, Camera from PCD\n",
    "    scene = Scene(dataset, gaussians, shuffle=False)"
   ]
  },
  {
   "cell_type": "code",
   "execution_count": 14,
   "metadata": {},
   "outputs": [],
   "source": [
    "# Pick a random Camera\n",
    "viewpoint_stack = None\n",
    "opt = op.extract(args)\n",
    "if not viewpoint_stack:\n",
    "    viewpoint_stack = scene.getTrainCameras().copy()\n",
    "\n",
    "\n",
    "# viewpoint_cam = viewpoint_stack.pop(randint(0, len(viewpoint_stack)-1))\n",
    "viewpoint_cam = viewpoint_stack[0]\n",
    "# Render\n",
    "bg = torch.rand((3), device=\"cuda\")\n",
    "\n",
    "render_pkg = render(viewpoint_cam, gaussians, pipeline, bg)\n",
    "\n",
    "image, viewspace_point_tensor, visibility_filter, radii = render_pkg[\"render\"], render_pkg[\"viewspace_points\"], render_pkg[\"visibility_filter\"], render_pkg[\"radii\"]\n"
   ]
  },
  {
   "cell_type": "code",
   "execution_count": 15,
   "metadata": {},
   "outputs": [
    {
     "data": {
      "image/png": "[encoded data removed]",
      "text/plain": [
       "<Figure size 640x480 with 1 Axes>"
      ]
     },
     "metadata": {},
     "output_type": "display_data"
    }
   ],
   "source": [
    "image_numpy = image.cpu().detach().numpy()\n",
    "\n",
    "# Transpose the dimensions to [height, width, channels]\n",
    "image_numpy = np.transpose(image_numpy, (1, 2, 0))\n",
    "\n",
    "# Display the image using Matplotlib\n",
    "plt.imshow(image_numpy)\n",
    "plt.axis('off')  # Turn off axis numbers and ticks\n",
    "plt.show()"
   ]
  }
 ],
 "metadata": {
  "kernelspec": {
   "display_name": "SA",
   "language": "python",
   "name": "python3"
  },
  "language_info": {
   "codemirror_mode": {
    "name": "ipython",
    "version": 3
   },
   "file_extension": ".py",
   "mimetype": "text/x-python",
   "name": "python",
   "nbconvert_exporter": "python",
   "pygments_lexer": "ipython3",
   "version": "3.8.17"
  }
 },
 "nbformat": 4,
 "nbformat_minor": 2
}
