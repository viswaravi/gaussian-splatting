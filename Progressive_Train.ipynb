{
 "cells": [
  {
   "cell_type": "code",
   "execution_count": 33,
   "metadata": {},
   "outputs": [],
   "source": [
    "import sys\n",
    "import torch\n",
    "import os\n",
    "from os import makedirs\n",
    "from argparse import ArgumentParser\n",
    "from argparse import Namespace\n",
    "from arguments import ModelParams, PipelineParams, OptimizationParams, get_combined_args\n",
    "import numpy as np\n",
    "from scene import Scene, GaussianModel\n",
    "from utils.general_utils import safe_state\n",
    "import open3d as o3d\n",
    "from utils.loss_utils import l1_loss, ssim\n",
    "from utils.image_utils import psnr\n",
    "from random import randint\n",
    "from gaussian_renderer import render, network_gui\n",
    "import matplotlib.pyplot as plt\n",
    "from tqdm import tqdm"
   ]
  },
  {
   "cell_type": "code",
   "execution_count": 25,
   "metadata": {},
   "outputs": [],
   "source": [
    "import uuid\n",
    "try:\n",
    "    from torch.utils.tensorboard import SummaryWriter\n",
    "    TENSORBOARD_FOUND = True\n",
    "except ImportError:\n",
    "    TENSORBOARD_FOUND = False\n",
    "\n",
    "def prepare_output_and_logger(args):    \n",
    "    if not args.model_path:\n",
    "        if os.getenv('OAR_JOB_ID'):\n",
    "            unique_str=os.getenv('OAR_JOB_ID')\n",
    "        else:\n",
    "            unique_str = str(uuid.uuid4())\n",
    "        args.model_path = os.path.join(\"./output/\", unique_str[0:10])\n",
    "        \n",
    "    # Set up output folder\n",
    "    print(\"Output folder: {}\".format(args.model_path))\n",
    "    os.makedirs(args.model_path, exist_ok = True)\n",
    "    with open(os.path.join(args.model_path, \"cfg_args\"), 'w') as cfg_log_f:\n",
    "        cfg_log_f.write(str(Namespace(**vars(args))))\n",
    "\n",
    "    # Create Tensorboard writer\n",
    "    tb_writer = None\n",
    "    if TENSORBOARD_FOUND:\n",
    "        tb_writer = SummaryWriter(args.model_path)\n",
    "    else:\n",
    "        print(\"Tensorboard not available: not logging progress\")\n",
    "    return tb_writer\n",
    "\n",
    "def training_report(tb_writer, iteration, Ll1, loss, l1_loss, elapsed, testing_iterations, scene : Scene, renderFunc, renderArgs):\n",
    "    if tb_writer:\n",
    "        tb_writer.add_scalar('train_loss_patches/l1_loss', Ll1.item(), iteration)\n",
    "        tb_writer.add_scalar('train_loss_patches/total_loss', loss.item(), iteration)\n",
    "        tb_writer.add_scalar('iter_time', elapsed, iteration)\n",
    "\n",
    "    # Report test and samples of training set\n",
    "    if iteration in testing_iterations:\n",
    "        torch.cuda.empty_cache()\n",
    "        validation_configs = ({'name': 'test', 'cameras' : scene.getTestCameras()}, \n",
    "                              {'name': 'train', 'cameras' : [scene.getTrainCameras()[idx % len(scene.getTrainCameras())] for idx in range(5, 30, 5)]})\n",
    "\n",
    "        for config in validation_configs:\n",
    "            if config['cameras'] and len(config['cameras']) > 0:\n",
    "                l1_test = 0.0\n",
    "                psnr_test = 0.0\n",
    "                for idx, viewpoint in enumerate(config['cameras']):\n",
    "                    image = torch.clamp(renderFunc(viewpoint, scene.gaussians, *renderArgs)[\"render\"], 0.0, 1.0)\n",
    "                    gt_image = torch.clamp(viewpoint.original_image.to(\"cuda\"), 0.0, 1.0)\n",
    "                    if tb_writer and (idx < 5):\n",
    "                        tb_writer.add_images(config['name'] + \"_view_{}/render\".format(viewpoint.image_name), image[None], global_step=iteration)\n",
    "                        if iteration == testing_iterations[0]:\n",
    "                            tb_writer.add_images(config['name'] + \"_view_{}/ground_truth\".format(viewpoint.image_name), gt_image[None], global_step=iteration)\n",
    "                    l1_test += l1_loss(image, gt_image).mean().double()\n",
    "                    psnr_test += psnr(image, gt_image).mean().double()\n",
    "                psnr_test /= len(config['cameras'])\n",
    "                l1_test /= len(config['cameras'])          \n",
    "                print(\"\\n[ITER {}] Evaluating {}: L1 {} PSNR {}\".format(iteration, config['name'], l1_test, psnr_test))\n",
    "                if tb_writer:\n",
    "                    tb_writer.add_scalar(config['name'] + '/loss_viewpoint - l1_loss', l1_test, iteration)\n",
    "                    tb_writer.add_scalar(config['name'] + '/loss_viewpoint - psnr', psnr_test, iteration)\n",
    "\n",
    "        if tb_writer:\n",
    "            tb_writer.add_histogram(\"scene/opacity_histogram\", scene.gaussians.get_opacity, iteration)\n",
    "            tb_writer.add_scalar('total_points', scene.gaussians.get_xyz.shape[0], iteration)\n",
    "        torch.cuda.empty_cache()"
   ]
  },
  {
   "cell_type": "code",
   "execution_count": 22,
   "metadata": {},
   "outputs": [],
   "source": [
    "torch.cuda.empty_cache()\n",
    "\n",
    "def showGSRender(image):\n",
    "    image_numpy = image.cpu().detach().numpy()\n",
    "    # Transpose the dimensions to [height, width, channels]\n",
    "    image_numpy = np.transpose(image_numpy, (1, 2, 0))\n",
    "\n",
    "    # Display the image using Matplotlib\n",
    "    plt.imshow(image_numpy)\n",
    "    plt.axis('off')  # Turn off axis numbers and ticks\n",
    "    plt.show()\n",
    "\n",
    "# #save as PLY for verification\n",
    "def saveTensorAsPLY(points,colors, file_name):\n",
    "    point_cloud_np = points.cpu().detach().numpy() \n",
    "    # Create an Open3D point cloud\n",
    "    point_cloud_o3d = o3d.geometry.PointCloud()\n",
    "    point_cloud_o3d.points = o3d.utility.Vector3dVector(point_cloud_np)\n",
    "    point_cloud_o3d.colors = o3d.utility.Vector3dVector(colors.cpu().detach().numpy())\n",
    "    # Save the point cloud as a PLY file\n",
    "    o3d.io.write_point_cloud(file_name, point_cloud_o3d)\n",
    "\n",
    "def renderGSwithStats(viewpoint_cam, gaussians, pipeline):\n",
    "    with torch.no_grad():\n",
    "        print(viewpoint_cam.colmap_id)\n",
    "        print(viewpoint_cam.R)\n",
    "        print(viewpoint_cam.T)\n",
    "        print(viewpoint_cam.camera_center)\n",
    "        print(viewpoint_cam.projection_matrix)\n",
    "        print(viewpoint_cam.image_width, viewpoint_cam.image_height)\n",
    "        print(viewpoint_cam.world_view_transform.inverse()) # Gives C2W Transform Transpose\n",
    "        print(viewpoint_cam.full_proj_transform)\n",
    "\n",
    "        # Render\n",
    "        bg = torch.ones((3), device=\"cuda\")\n",
    "        render_pkg = render(viewpoint_cam, gaussians, pipeline, bg)\n",
    "        image, viewspace_point_tensor, visibility_filter, radii = render_pkg[\"render\"], render_pkg[\"viewspace_points\"], render_pkg[\"visibility_filter\"], render_pkg[\"radii\"]\n",
    "        showGSRender(image)"
   ]
  },
  {
   "cell_type": "code",
   "execution_count": 31,
   "metadata": {},
   "outputs": [],
   "source": [
    "# Setup Command line Arg\n",
    "# sys.argv = [\"train.py\", \"-s\", \"G:\\\\Universitat Siegen\\\\SA\\\\P-GPU\\\\Code\\\\gaussian-splatting\\\\data\\\\RGBD_Data\", \"-r\" ,\"1\"]\n",
    "                        # \"-m\" , \"G:\\\\Universitat Siegen\\\\SA\\\\P-GPU\\\\Code\\\\gaussian-splatting\\\\output\\\\RGBD_Model\"]\n",
    "\n",
    "sys.argv = [\"train.py\", \"-s\", \"G:\\\\Universitat Siegen\\\\SA\\\\P-GPU\\\\Code\\\\gaussian-splatting\\\\data\\\\ScanNet\\\\scene0000_00\", \"-r\" ,\"1\"]\n",
    "\n",
    "parser = ArgumentParser(description='Progressice Gaussian Splatting')\n",
    "model = ModelParams(parser)\n",
    "pipeline = PipelineParams(parser)\n",
    "op = OptimizationParams(parser)\n",
    "\n",
    "# parser.add_argument('--ip', type=str, default=\"127.0.0.1\")\n",
    "# parser.add_argument('--port', type=int, default=6009)\n",
    "parser.add_argument('--debug_from', type=int, default=-1)\n",
    "# parser.add_argument('--detect_anomaly', action='store_true', default=False)\n",
    "parser.add_argument(\"--save_iterations\", nargs=\"+\", type=int, default=[50, 100])\n",
    "parser.add_argument(\"--test_iterations\", nargs=\"+\", type=int, default=[50, 100])\n",
    "parser.add_argument(\"--quiet\", action=\"store_true\")\n",
    "parser.add_argument(\"--checkpoint_iterations\", nargs=\"+\", type=int, default=[50])\n",
    "parser.add_argument(\"--start_checkpoint\", type=str, default = None)\n",
    "\n",
    "args = parser.parse_args(sys.argv[1:])\n",
    "\n",
    "# Initialize system state (RNG)\n",
    "# safe_state(args.quiet)\n",
    "\n",
    "dataset, iteration, pipeline = model.extract(args), op.extract(args), pipeline.extract(args)\n",
    "\n",
    "testing_iterations, saving_iterations, checkpoint_iterations, checkpoint, debug_from = args.test_iterations, args.save_iterations, args.checkpoint_iterations, args.start_checkpoint, args.debug_from"
   ]
  },
  {
   "cell_type": "code",
   "execution_count": 4,
   "metadata": {},
   "outputs": [
    {
     "name": "stdout",
     "output_type": "stream",
     "text": [
      "Loading ScanNet Scene\n",
      "Reading Camera Info\n"
     ]
    },
    {
     "name": "stderr",
     "output_type": "stream",
     "text": [
      "  0%|          | 0/15 [00:00<?, ?it/s]"
     ]
    },
    {
     "name": "stderr",
     "output_type": "stream",
     "text": [
      "100%|██████████| 15/15 [00:00<00:00, 173.84it/s]\n"
     ]
    },
    {
     "name": "stdout",
     "output_type": "stream",
     "text": [
      "Loading Training Cameras\n",
      "Loading Test Cameras\n",
      "Number of points at initialisation :  1254528\n"
     ]
    }
   ],
   "source": [
    "with torch.no_grad():\n",
    "    # Initialize Gaussians with Zero Tensor\n",
    "    gaussians = GaussianModel(dataset.sh_degree)\n",
    "    # Load Actual Gaussians, Camera from PCD\n",
    "    scene = Scene(dataset, gaussians, shuffle=False)"
   ]
  },
  {
   "cell_type": "code",
   "execution_count": 5,
   "metadata": {},
   "outputs": [],
   "source": [
    "# Get the viewpoint stack\n",
    "viewpoint_stack = None\n",
    "opt = op.extract(args)\n",
    "if not viewpoint_stack:\n",
    "    viewpoint_stack = scene.getTrainCameras().copy()\n",
    "    \n",
    "# viewpoint_cam = viewpoint_stack.pop(randint(0, len(viewpoint_stack)-1))"
   ]
  },
  {
   "cell_type": "code",
   "execution_count": 19,
   "metadata": {},
   "outputs": [
    {
     "name": "stdout",
     "output_type": "stream",
     "text": [
      "0\n",
      "[[-9.55421e-01  1.19616e-01 -2.69932e-01]\n",
      " [ 2.95248e-01  3.88339e-01 -8.72939e-01]\n",
      " [ 4.08000e-04 -9.13720e-01 -4.06343e-01]]\n",
      "[2.65583  2.981598 1.368648]\n",
      "tensor([2.6558, 2.9816, 1.3686], device='cuda:0')\n",
      "tensor([[ 1.1559,  0.0000,  0.0000,  0.0000],\n",
      "        [ 0.0000,  1.6979,  0.0000,  0.0000],\n",
      "        [ 0.0000,  0.0000,  1.0001,  1.0000],\n",
      "        [ 0.0000,  0.0000, -0.0100,  0.0000]], device='cuda:0')\n",
      "1296 968\n",
      "tensor([[-9.5542e-01,  2.9525e-01,  4.0806e-04,  0.0000e+00],\n",
      "        [ 1.1962e-01,  3.8834e-01, -9.1372e-01, -0.0000e+00],\n",
      "        [-2.6993e-01, -8.7294e-01, -4.0634e-01,  0.0000e+00],\n",
      "        [ 2.6558e+00,  2.9816e+00,  1.3686e+00,  1.0000e+00]], device='cuda:0')\n",
      "tensor([[-1.1044e+00,  2.0310e-01, -2.6996e-01, -2.6993e-01],\n",
      "        [ 3.4128e-01,  6.5938e-01, -8.7303e-01, -8.7294e-01],\n",
      "        [ 4.7121e-04, -1.5514e+00, -4.0638e-01, -4.0634e-01],\n",
      "        [ 1.9149e+00, -3.8201e-01,  3.8662e+00,  3.8758e+00]], device='cuda:0')\n"
     ]
    },
    {
     "data": {
      "image/png": "[encoded data removed]",
      "text/plain": [
       "<Figure size 640x480 with 1 Axes>"
      ]
     },
     "metadata": {},
     "output_type": "display_data"
    }
   ],
   "source": [
    "# Redner the first viewpoint\n",
    "renderGSwithStats(viewpoint_stack[0], gaussians, pipeline)"
   ]
  },
  {
   "cell_type": "code",
   "execution_count": 20,
   "metadata": {},
   "outputs": [],
   "source": [
    "# ply_path = \"G:\\\\Universitat Siegen\\\\SA\\\\P-GPU\\\\Code\\\\gaussian-splatting\\\\data\\\\RGBD_Data\\\\ply\"\n",
    "ply_path = \"G:\\\\Universitat Siegen\\\\SA\\\\P-GPU\\\\Code\\\\gaussian-splatting\\\\data\\\\ScanNet\\\\scene0000_00\\\\sens_read\\\\ply\"\n",
    "\n",
    "ply_files = os.listdir(ply_path)\n",
    "\n",
    "def loadPLY(ply_file):\n",
    "       pcd = o3d.io.read_point_cloud(ply_file)\n",
    "       points = np.asarray(pcd.points)\n",
    "       colors = np.asarray(pcd.colors)\n",
    "       points = torch.from_numpy(points).float().cuda()\n",
    "       colors = torch.from_numpy(colors).float().cuda()\n",
    "       return points, colors\n",
    "\n",
    "def getPixelIndicesfromPLY(points, colors,  viewpoint_cam, sub_pixel_level=1):\n",
    "       # Get Projection Matrix\n",
    "       P = viewpoint_cam.full_proj_transform\n",
    "       \n",
    "       # Project points using projection matrix P in torch cuda and get result in NDC\n",
    "       points_homogeneous = torch.cat((points, torch.ones(points.shape[0], 1, device=points.device)), dim=1)\n",
    "       projected_points_homogeneous = torch.matmul(points_homogeneous, P.t()) # Clip space coordinates\n",
    "\n",
    "       # # Filter points outside clip space\n",
    "       # mask = (projected_points_homogeneous[:, 0] >= -1) & (projected_points_homogeneous[:, 0] < 1) & \\\n",
    "       #        (projected_points_homogeneous[:, 1] >= -1) & (projected_points_homogeneous[:, 1] < 1 ) # & \\\n",
    "              # (projected_points_homogeneous[:, 2] >= -1) & (projected_points_homogeneous[:, 2] < 1) // Removes points closer to camera so not included\n",
    "       # projected_points_homogeneous = projected_points_homogeneous[mask]\n",
    "\n",
    "       # Clip Space / Homogenous to NDC\n",
    "       assert projected_points_homogeneous.shape[1] == 4\n",
    "       # Extract x, y, z, w from the tensor\n",
    "       x, y, z, w = projected_points_homogeneous[:, 0], projected_points_homogeneous[:, 1], projected_points_homogeneous[:, 2], projected_points_homogeneous[:, 3]\n",
    "       x_ndc = x / w\n",
    "       y_ndc = y / w\n",
    "       z_ndc = z / w\n",
    "       projected_points_NDC = torch.stack((x_ndc, y_ndc, z_ndc), dim=1)\n",
    "\n",
    "       # print(projected_points_NDC.shape, projected_points_NDC.min(), projected_points_NDC.max())\n",
    "\n",
    "       # NDC to Image Space [-1,1] to [0,1]\n",
    "       projected_points_IS = (projected_points_NDC + 1) / 2\n",
    "\n",
    "       # Filter points outside image space\n",
    "       mask = (projected_points_IS[:, 0] >= 0) & (projected_points_IS[:, 0] < 1) & \\\n",
    "              (projected_points_IS[:, 1] >= 0) & (projected_points_IS[:, 1] < 1 ) # & \\\n",
    "              # (projected_points_IS[:, 2] >= 0) & (projected_points_IS[:, 2] < 1)\n",
    "       projected_points_IS = projected_points_IS[mask]\n",
    "       points_filtered = points[mask]\n",
    "       colors_filtered = colors[mask]\n",
    "\n",
    "       # print(projected_points_IS.shape, projected_points_IS.min(), projected_points_IS.max())\n",
    "\n",
    "       # Get image width and height\n",
    "       img_width, img_height = viewpoint_cam.image_width, viewpoint_cam.image_height\n",
    "       # Calculate effective pixel width and height based on the sub-pixel variable\n",
    "       effective_pixel_width, effective_pixel_height = img_width // sub_pixel_level, img_height // sub_pixel_level\n",
    "       # Get pixel coordinates\n",
    "       pixel_coordinates = projected_points_IS[:,:2] * torch.tensor([effective_pixel_width, effective_pixel_height], device=points.device).float()\n",
    "       pixel_indices = torch.floor(pixel_coordinates).to(torch.int)\n",
    "\n",
    "       # print(pixel_indices.shape, pixel_indices.min(), pixel_indices.max())\n",
    "       return points_filtered,colors_filtered,pixel_indices"
   ]
  },
  {
   "cell_type": "code",
   "execution_count": 23,
   "metadata": {},
   "outputs": [
    {
     "name": "stderr",
     "output_type": "stream",
     "text": [
      "  7%|▋         | 1/15 [00:00<00:08,  1.57it/s]"
     ]
    },
    {
     "name": "stdout",
     "output_type": "stream",
     "text": [
      "Initialized with points from first Frame\n"
     ]
    },
    {
     "name": "stderr",
     "output_type": "stream",
     "text": [
      " 13%|█▎        | 2/15 [00:01<00:08,  1.54it/s]"
     ]
    },
    {
     "name": "stdout",
     "output_type": "stream",
     "text": [
      "Adding new points:  torch.Size([18738, 3])\n",
      "Adding new points:  torch.Size([242319, 3])\n"
     ]
    },
    {
     "name": "stderr",
     "output_type": "stream",
     "text": [
      " 27%|██▋       | 4/15 [00:02<00:06,  1.83it/s]"
     ]
    },
    {
     "name": "stdout",
     "output_type": "stream",
     "text": [
      "Adding new points:  torch.Size([3711, 3])\n"
     ]
    },
    {
     "name": "stderr",
     "output_type": "stream",
     "text": [
      " 33%|███▎      | 5/15 [00:02<00:04,  2.30it/s]"
     ]
    },
    {
     "name": "stdout",
     "output_type": "stream",
     "text": [
      "Adding new points:  torch.Size([3360, 3])\n"
     ]
    },
    {
     "name": "stderr",
     "output_type": "stream",
     "text": [
      " 40%|████      | 6/15 [00:02<00:03,  2.54it/s]"
     ]
    },
    {
     "name": "stdout",
     "output_type": "stream",
     "text": [
      "Adding new points:  torch.Size([0, 3])\n",
      "[Open3D WARNING] Write PLY failed: point cloud has 0 points.\n"
     ]
    },
    {
     "name": "stderr",
     "output_type": "stream",
     "text": [
      " 47%|████▋     | 7/15 [00:03<00:02,  2.93it/s]"
     ]
    },
    {
     "name": "stdout",
     "output_type": "stream",
     "text": [
      "Adding new points:  torch.Size([0, 3])\n",
      "[Open3D WARNING] Write PLY failed: point cloud has 0 points.\n"
     ]
    },
    {
     "name": "stderr",
     "output_type": "stream",
     "text": [
      " 53%|█████▎    | 8/15 [00:03<00:02,  3.02it/s]"
     ]
    },
    {
     "name": "stdout",
     "output_type": "stream",
     "text": [
      "Adding new points:  torch.Size([7641, 3])\n"
     ]
    },
    {
     "name": "stderr",
     "output_type": "stream",
     "text": [
      " 60%|██████    | 9/15 [00:03<00:01,  3.26it/s]"
     ]
    },
    {
     "name": "stdout",
     "output_type": "stream",
     "text": [
      "Adding new points:  torch.Size([0, 3])\n",
      "[Open3D WARNING] Write PLY failed: point cloud has 0 points.\n"
     ]
    },
    {
     "name": "stderr",
     "output_type": "stream",
     "text": [
      " 67%|██████▋   | 10/15 [00:03<00:01,  3.50it/s]"
     ]
    },
    {
     "name": "stdout",
     "output_type": "stream",
     "text": [
      "Adding new points:  torch.Size([0, 3])\n",
      "[Open3D WARNING] Write PLY failed: point cloud has 0 points.\n"
     ]
    },
    {
     "name": "stderr",
     "output_type": "stream",
     "text": [
      " 73%|███████▎  | 11/15 [00:04<00:01,  3.38it/s]"
     ]
    },
    {
     "name": "stdout",
     "output_type": "stream",
     "text": [
      "Adding new points:  torch.Size([16060, 3])\n"
     ]
    },
    {
     "name": "stderr",
     "output_type": "stream",
     "text": [
      " 80%|████████  | 12/15 [00:04<00:00,  3.39it/s]"
     ]
    },
    {
     "name": "stdout",
     "output_type": "stream",
     "text": [
      "Adding new points:  torch.Size([20740, 3])\n"
     ]
    },
    {
     "name": "stderr",
     "output_type": "stream",
     "text": [
      " 87%|████████▋ | 13/15 [00:04<00:00,  3.19it/s]"
     ]
    },
    {
     "name": "stdout",
     "output_type": "stream",
     "text": [
      "Adding new points:  torch.Size([49490, 3])\n",
      "Adding new points:  torch.Size([167812, 3])\n"
     ]
    },
    {
     "name": "stderr",
     "output_type": "stream",
     "text": [
      "100%|██████████| 15/15 [00:06<00:00,  2.48it/s]"
     ]
    },
    {
     "name": "stdout",
     "output_type": "stream",
     "text": [
      "Adding new points:  torch.Size([0, 3])\n",
      "[Open3D WARNING] Write PLY failed: point cloud has 0 points.\n"
     ]
    },
    {
     "name": "stderr",
     "output_type": "stream",
     "text": [
      "\n"
     ]
    }
   ],
   "source": [
    "# Add new points from PLY\n",
    "sub_pixel_level = 1\n",
    "\n",
    "global_points = None\n",
    "global_colors = None\n",
    "\n",
    "for i in tqdm(range(len(viewpoint_stack))):\n",
    "    viewpoint_cam = viewpoint_stack[i]\n",
    "    # Check if PLY file exists\n",
    "    ply_file_name = viewpoint_cam.colmap_id + \".ply\"\n",
    "    filtered_ply_file_name = viewpoint_cam.colmap_id + \"_filtered.ply\"\n",
    "\n",
    "    # print(ply_file_name)\n",
    "\n",
    "    # if ply_file_name not in ply_files:\n",
    "    #     continue\n",
    "\n",
    "    ply_file_path = os.path.join(ply_path, ply_file_name)\n",
    "    \n",
    "    pcd_points, pcd_colors = loadPLY(ply_file_path)\n",
    "    filtered_points, filtered_colors,  indices = getPixelIndicesfromPLY(pcd_points, pcd_colors, viewpoint_cam)\n",
    "    \n",
    "    # # Load Initial Points\n",
    "    if global_points is None:\n",
    "        print(\"Initialized with points from first Frame\")\n",
    "        global_points = filtered_points\n",
    "        global_colors = filtered_colors\n",
    "    else:\n",
    "        global_filtered_points, global_filtered_colors, global_pixel_indices = getPixelIndicesfromPLY(global_points,global_colors, viewpoint_cam)\n",
    "\n",
    "        # print(indices.shape, global_pixel_indices.shape)\n",
    "        # Find indices of filtered_points that are not present in global_pixel_indices\n",
    "        not_in_global = ~torch.isin(indices, global_pixel_indices).all(dim=1)\n",
    "        \n",
    "        # Get filtered_points that are not present in global_filtered_points\n",
    "        filtered_points_not_in_global = filtered_points[not_in_global]\n",
    "        filtered_colors_not_in_global = filtered_colors[not_in_global]\n",
    "\n",
    "        print(\"Adding new points: \", filtered_points_not_in_global.shape)\n",
    "        \n",
    "        saveTensorAsPLY(filtered_points_not_in_global,filtered_colors_not_in_global, filtered_ply_file_name)\n",
    "        # Append to global points\n",
    "        global_points = torch.cat((global_points, filtered_points_not_in_global), dim=0)\n",
    "        global_colors = torch.cat((global_colors, filtered_colors_not_in_global), dim=0)\n",
    "\n",
    "\n",
    "saveTensorAsPLY(global_points,global_colors, \"Global.ply\")"
   ]
  },
  {
   "cell_type": "code",
   "execution_count": 24,
   "metadata": {},
   "outputs": [],
   "source": [
    "saveTensorAsPLY(global_points,global_colors, \"Global.ply\")"
   ]
  },
  {
   "cell_type": "code",
   "execution_count": 32,
   "metadata": {},
   "outputs": [
    {
     "name": "stdout",
     "output_type": "stream",
     "text": [
      "Output folder: ./output/65e535d6-f\n",
      "Loading ScanNet Scene\n",
      "Reading Camera Info\n"
     ]
    },
    {
     "name": "stderr",
     "output_type": "stream",
     "text": [
      "  0%|          | 0/15 [00:00<?, ?it/s]"
     ]
    },
    {
     "name": "stderr",
     "output_type": "stream",
     "text": [
      "100%|██████████| 15/15 [00:00<00:00, 1880.46it/s]\n"
     ]
    },
    {
     "name": "stdout",
     "output_type": "stream",
     "text": [
      "Loading Training Cameras\n",
      "Loading Test Cameras\n",
      "Number of points at initialisation :  1254528\n"
     ]
    },
    {
     "name": "stderr",
     "output_type": "stream",
     "text": [
      "Training progress:   0%|          | 0/30000 [03:45<?, ?it/s]\n",
      "Training progress:   0%|          | 50/30000 [00:04<47:32, 10.50it/s, Loss=0.6097915]"
     ]
    },
    {
     "name": "stdout",
     "output_type": "stream",
     "text": [
      "\n",
      "[ITER 50] Saving Gaussians\n",
      "\n",
      "[ITER 50] Saving Checkpoint\n"
     ]
    },
    {
     "name": "stderr",
     "output_type": "stream",
     "text": [
      "Training progress:   0%|          | 100/30000 [00:32<2:12:16,  3.77it/s, Loss=0.5857949]"
     ]
    },
    {
     "name": "stdout",
     "output_type": "stream",
     "text": [
      "\n",
      "[ITER 100] Saving Gaussians\n"
     ]
    },
    {
     "name": "stderr",
     "output_type": "stream",
     "text": [
      "Training progress:   0%|          | 100/30000 [00:43<2:12:16,  3.77it/s, Loss=0.5857949]"
     ]
    },
    {
     "ename": "KeyboardInterrupt",
     "evalue": "",
     "output_type": "error",
     "traceback": [
      "\u001b[1;31m---------------------------------------------------------------------------\u001b[0m",
      "\u001b[1;31mKeyboardInterrupt\u001b[0m                         Traceback (most recent call last)",
      "\u001b[1;32mg:\\Universitat Siegen\\SA\\P-GPU\\Code\\gaussian-splatting\\Progressive_Train.ipynb Cell 11\u001b[0m line \u001b[0;36m8\n\u001b[0;32m     <a href='vscode-notebook-cell:/g%3A/Universitat%20Siegen/SA/P-GPU/Code/gaussian-splatting/Progressive_Train.ipynb#X21sZmlsZQ%3D%3D?line=77'>78</a>\u001b[0m \u001b[39mif\u001b[39;00m (iteration \u001b[39min\u001b[39;00m saving_iterations):\n\u001b[0;32m     <a href='vscode-notebook-cell:/g%3A/Universitat%20Siegen/SA/P-GPU/Code/gaussian-splatting/Progressive_Train.ipynb#X21sZmlsZQ%3D%3D?line=78'>79</a>\u001b[0m     \u001b[39mprint\u001b[39m(\u001b[39m\"\u001b[39m\u001b[39m\\n\u001b[39;00m\u001b[39m[ITER \u001b[39m\u001b[39m{}\u001b[39;00m\u001b[39m] Saving Gaussians\u001b[39m\u001b[39m\"\u001b[39m\u001b[39m.\u001b[39mformat(iteration))\n\u001b[1;32m---> <a href='vscode-notebook-cell:/g%3A/Universitat%20Siegen/SA/P-GPU/Code/gaussian-splatting/Progressive_Train.ipynb#X21sZmlsZQ%3D%3D?line=79'>80</a>\u001b[0m     scene\u001b[39m.\u001b[39;49msave(iteration)\n\u001b[0;32m     <a href='vscode-notebook-cell:/g%3A/Universitat%20Siegen/SA/P-GPU/Code/gaussian-splatting/Progressive_Train.ipynb#X21sZmlsZQ%3D%3D?line=81'>82</a>\u001b[0m \u001b[39m# Densification\u001b[39;00m\n\u001b[0;32m     <a href='vscode-notebook-cell:/g%3A/Universitat%20Siegen/SA/P-GPU/Code/gaussian-splatting/Progressive_Train.ipynb#X21sZmlsZQ%3D%3D?line=82'>83</a>\u001b[0m \u001b[39mif\u001b[39;00m iteration \u001b[39m<\u001b[39m opt\u001b[39m.\u001b[39mdensify_until_iter:\n\u001b[0;32m     <a href='vscode-notebook-cell:/g%3A/Universitat%20Siegen/SA/P-GPU/Code/gaussian-splatting/Progressive_Train.ipynb#X21sZmlsZQ%3D%3D?line=83'>84</a>\u001b[0m     \u001b[39m# Keep track of max radii in image-space for pruning\u001b[39;00m\n",
      "File \u001b[1;32mg:\\Universitat Siegen\\SA\\P-GPU\\Code\\gaussian-splatting\\scene\\__init__.py:95\u001b[0m, in \u001b[0;36mScene.save\u001b[1;34m(self, iteration)\u001b[0m\n\u001b[0;32m     93\u001b[0m \u001b[39mdef\u001b[39;00m \u001b[39msave\u001b[39m(\u001b[39mself\u001b[39m, iteration):\n\u001b[0;32m     94\u001b[0m     point_cloud_path \u001b[39m=\u001b[39m os\u001b[39m.\u001b[39mpath\u001b[39m.\u001b[39mjoin(\u001b[39mself\u001b[39m\u001b[39m.\u001b[39mmodel_path, \u001b[39m\"\u001b[39m\u001b[39mpoint_cloud/iteration_\u001b[39m\u001b[39m{}\u001b[39;00m\u001b[39m\"\u001b[39m\u001b[39m.\u001b[39mformat(iteration))\n\u001b[1;32m---> 95\u001b[0m     \u001b[39mself\u001b[39;49m\u001b[39m.\u001b[39;49mgaussians\u001b[39m.\u001b[39;49msave_ply(os\u001b[39m.\u001b[39;49mpath\u001b[39m.\u001b[39;49mjoin(point_cloud_path, \u001b[39m\"\u001b[39;49m\u001b[39mpoint_cloud.ply\u001b[39;49m\u001b[39m\"\u001b[39;49m))\n",
      "File \u001b[1;32mg:\\Universitat Siegen\\SA\\P-GPU\\Code\\gaussian-splatting\\scene\\gaussian_model.py:236\u001b[0m, in \u001b[0;36mGaussianModel.save_ply\u001b[1;34m(self, path)\u001b[0m\n\u001b[0;32m    234\u001b[0m elements[:] \u001b[39m=\u001b[39m \u001b[39mlist\u001b[39m(\u001b[39mmap\u001b[39m(\u001b[39mtuple\u001b[39m, attributes))\n\u001b[0;32m    235\u001b[0m el \u001b[39m=\u001b[39m PlyElement\u001b[39m.\u001b[39mdescribe(elements, \u001b[39m'\u001b[39m\u001b[39mvertex\u001b[39m\u001b[39m'\u001b[39m)\n\u001b[1;32m--> 236\u001b[0m PlyData([el])\u001b[39m.\u001b[39;49mwrite(path)\n",
      "File \u001b[1;32md:\\Software-Installs\\anaconda3\\envs\\SA\\lib\\site-packages\\plyfile.py:212\u001b[0m, in \u001b[0;36mPlyData.write\u001b[1;34m(self, stream)\u001b[0m\n\u001b[0;32m    210\u001b[0m         stream\u001b[39m.\u001b[39mwrite(\u001b[39m'\u001b[39m\u001b[39m\\n\u001b[39;00m\u001b[39m'\u001b[39m)\n\u001b[0;32m    211\u001b[0m     \u001b[39mfor\u001b[39;00m elt \u001b[39min\u001b[39;00m \u001b[39mself\u001b[39m:\n\u001b[1;32m--> 212\u001b[0m         elt\u001b[39m.\u001b[39;49m_write(stream, \u001b[39mself\u001b[39;49m\u001b[39m.\u001b[39;49mtext, \u001b[39mself\u001b[39;49m\u001b[39m.\u001b[39;49mbyte_order)\n\u001b[0;32m    213\u001b[0m \u001b[39mfinally\u001b[39;00m:\n\u001b[0;32m    214\u001b[0m     \u001b[39mif\u001b[39;00m must_close:\n",
      "File \u001b[1;32md:\\Software-Installs\\anaconda3\\envs\\SA\\lib\\site-packages\\plyfile.py:549\u001b[0m, in \u001b[0;36mPlyElement._write\u001b[1;34m(self, stream, text, byte_order)\u001b[0m\n\u001b[0;32m    545\u001b[0m     \u001b[39mself\u001b[39m\u001b[39m.\u001b[39m_write_bin(stream, byte_order)\n\u001b[0;32m    546\u001b[0m \u001b[39melse\u001b[39;00m:\n\u001b[0;32m    547\u001b[0m     \u001b[39m# no list properties, so serialization is\u001b[39;00m\n\u001b[0;32m    548\u001b[0m     \u001b[39m# straightforward.\u001b[39;00m\n\u001b[1;32m--> 549\u001b[0m     stream\u001b[39m.\u001b[39;49mwrite(\u001b[39mself\u001b[39;49m\u001b[39m.\u001b[39;49mdata\u001b[39m.\u001b[39;49mastype(\u001b[39mself\u001b[39;49m\u001b[39m.\u001b[39;49mdtype(byte_order),\n\u001b[0;32m    550\u001b[0m                                   copy\u001b[39m=\u001b[39;49m\u001b[39mFalse\u001b[39;49;00m)\u001b[39m.\u001b[39;49mdata)\n",
      "\u001b[1;31mKeyboardInterrupt\u001b[0m: "
     ]
    }
   ],
   "source": [
    "# Train Loop\n",
    "first_iter = 0\n",
    "tb_writer = prepare_output_and_logger(dataset)\n",
    "gaussians = GaussianModel(dataset.sh_degree)\n",
    "scene = Scene(dataset, gaussians)\n",
    "gaussians.training_setup(opt)\n",
    "if checkpoint:\n",
    "    (model_params, first_iter) = torch.load(checkpoint)\n",
    "    gaussians.restore(model_params, opt)\n",
    "\n",
    "bg_color = [1, 1, 1] if dataset.white_background else [0, 0, 0]\n",
    "background = torch.tensor(bg_color, dtype=torch.float32, device=\"cuda\")\n",
    "\n",
    "iter_start = torch.cuda.Event(enable_timing = True)\n",
    "iter_end = torch.cuda.Event(enable_timing = True)\n",
    "\n",
    "viewpoint_stack = None\n",
    "ema_loss_for_log = 0.0\n",
    "progress_bar = tqdm(range(first_iter, opt.iterations), desc=\"Training progress\")\n",
    "first_iter += 1\n",
    "for iteration in range(first_iter, opt.iterations + 1):        \n",
    "    if network_gui.conn == None:\n",
    "        network_gui.try_connect()\n",
    "    while network_gui.conn != None:\n",
    "        try:\n",
    "            net_image_bytes = None\n",
    "            custom_cam, do_training, pipeline.convert_SHs_python, pipeline.compute_cov3D_python, keep_alive, scaling_modifer = network_gui.receive()\n",
    "            if custom_cam != None:\n",
    "                net_image = render(custom_cam, gaussians, pipeline, background, scaling_modifer)[\"render\"]\n",
    "                net_image_bytes = memoryview((torch.clamp(net_image, min=0, max=1.0) * 255).byte().permute(1, 2, 0).contiguous().cpu().numpy())\n",
    "            network_gui.send(net_image_bytes, dataset.source_path)\n",
    "            if do_training and ((iteration < int(opt.iterations)) or not keep_alive):\n",
    "                break\n",
    "        except Exception as e:\n",
    "            network_gui.conn = None\n",
    "\n",
    "    iter_start.record()\n",
    "\n",
    "    gaussians.update_learning_rate(iteration)\n",
    "\n",
    "    # Every 1000 its we increase the levels of SH up to a maximum degree\n",
    "    if iteration % 1000 == 0:\n",
    "        gaussians.oneupSHdegree()\n",
    "\n",
    "    # Pick a random Camera\n",
    "    if not viewpoint_stack:\n",
    "        viewpoint_stack = scene.getTrainCameras().copy()\n",
    "    viewpoint_cam = viewpoint_stack.pop(randint(0, len(viewpoint_stack)-1))\n",
    "\n",
    "    # Render\n",
    "    if (iteration - 1) == debug_from:\n",
    "        pipeline.debug = True\n",
    "\n",
    "    bg = torch.rand((3), device=\"cuda\") if opt.random_background else background\n",
    "\n",
    "    render_pkg = render(viewpoint_cam, gaussians, pipeline, bg)\n",
    "    image, viewspace_point_tensor, visibility_filter, radii = render_pkg[\"render\"], render_pkg[\"viewspace_points\"], render_pkg[\"visibility_filter\"], render_pkg[\"radii\"]\n",
    "\n",
    "    # Loss\n",
    "    gt_image = viewpoint_cam.original_image.cuda()\n",
    "    Ll1 = l1_loss(image, gt_image)\n",
    "    loss = (1.0 - opt.lambda_dssim) * Ll1 + opt.lambda_dssim * (1.0 - ssim(image, gt_image))\n",
    "    loss.backward()\n",
    "\n",
    "    iter_end.record()\n",
    "\n",
    "    with torch.no_grad():\n",
    "        # Progress bar\n",
    "        ema_loss_for_log = 0.4 * loss.item() + 0.6 * ema_loss_for_log\n",
    "        if iteration % 10 == 0:\n",
    "            progress_bar.set_postfix({\"Loss\": f\"{ema_loss_for_log:.{7}f}\"})\n",
    "            progress_bar.update(10)\n",
    "        if iteration == opt.iterations:\n",
    "            progress_bar.close()\n",
    "\n",
    "        # Log and save\n",
    "        # training_report(tb_writer, iteration, Ll1, loss, l1_loss, iter_start.elapsed_time(iter_end), testing_iterations, scene, render, (pipeline, background))\n",
    "        if (iteration in saving_iterations):\n",
    "            print(\"\\n[ITER {}] Saving Gaussians\".format(iteration))\n",
    "            scene.save(iteration)\n",
    "\n",
    "        # Densification\n",
    "        if iteration < opt.densify_until_iter:\n",
    "            # Keep track of max radii in image-space for pruning\n",
    "            gaussians.max_radii2D[visibility_filter] = torch.max(gaussians.max_radii2D[visibility_filter], radii[visibility_filter])\n",
    "            gaussians.add_densification_stats(viewspace_point_tensor, visibility_filter)\n",
    "\n",
    "            if iteration > opt.densify_from_iter and iteration % opt.densification_interval == 0:\n",
    "                size_threshold = 20 if iteration > opt.opacity_reset_interval else None\n",
    "                gaussians.densify_and_prune(opt.densify_grad_threshold, 0.005, scene.cameras_extent, size_threshold)\n",
    "            \n",
    "            if iteration % opt.opacity_reset_interval == 0 or (dataset.white_background and iteration == opt.densify_from_iter):\n",
    "                gaussians.reset_opacity()\n",
    "\n",
    "        # Optimizer step\n",
    "        if iteration < opt.iterations:\n",
    "            gaussians.optimizer.step()\n",
    "            gaussians.optimizer.zero_grad(set_to_none = True)\n",
    "\n",
    "        if (iteration in checkpoint_iterations):\n",
    "            print(\"\\n[ITER {}] Saving Checkpoint\".format(iteration))\n",
    "            torch.save((gaussians.capture(), iteration), scene.model_path + \"/chkpnt\" + str(iteration) + \".pth\")\n"
   ]
  }
 ],
 "metadata": {
  "kernelspec": {
   "display_name": "SA",
   "language": "python",
   "name": "python3"
  },
  "language_info": {
   "codemirror_mode": {
    "name": "ipython",
    "version": 3
   },
   "file_extension": ".py",
   "mimetype": "text/x-python",
   "name": "python",
   "nbconvert_exporter": "python",
   "pygments_lexer": "ipython3",
   "version": "3.8.17"
  }
 },
 "nbformat": 4,
 "nbformat_minor": 2
}
